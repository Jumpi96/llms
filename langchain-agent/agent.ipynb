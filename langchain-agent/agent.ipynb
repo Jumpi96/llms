{
 "cells": [
  {
   "cell_type": "markdown",
   "id": "58063db9-6aa3-41fb-a3a3-43499b2f743c",
   "metadata": {},
   "source": [
    "# Build an Agent\n",
    "## Setup"
   ]
  },
  {
   "cell_type": "code",
   "execution_count": 1,
   "id": "a6ceacf7-eeb5-44ec-8ce2-e64382752ddc",
   "metadata": {},
   "outputs": [],
   "source": [
    "import yaml\n",
    "import os\n",
    "\n",
    "with open(\"config.yaml\", \"r\") as file:\n",
    "    config = yaml.safe_load(file)\n",
    "\n",
    "for key in config.keys():\n",
    "    os.environ[key] = config[key]"
   ]
  },
  {
   "cell_type": "markdown",
   "id": "1cbc245c-74ee-4fba-978f-7407a4c697de",
   "metadata": {},
   "source": [
    "## Define tools\n",
    "Using **Tavily**, a search engine as a tool."
   ]
  },
  {
   "cell_type": "code",
   "execution_count": 2,
   "id": "763abe92-64fc-4664-a5e8-406828ccc766",
   "metadata": {},
   "outputs": [],
   "source": [
    "from langchain_community.tools.tavily_search import TavilySearchResults\n",
    "\n",
    "search = TavilySearchResults(max_results=2)\n",
    "\n",
    "tools = [search]"
   ]
  },
  {
   "cell_type": "markdown",
   "id": "240a1ac5-f2d2-4f14-b3c9-90cfe8228e71",
   "metadata": {},
   "source": [
    "## Define LLM"
   ]
  },
  {
   "cell_type": "code",
   "execution_count": 3,
   "id": "23be516f-045f-4371-95a1-e00cd8d97cc0",
   "metadata": {},
   "outputs": [],
   "source": [
    "from langchain.chat_models import init_chat_model\n",
    "from langchain_core.messages import HumanMessage\n",
    "\n",
    "model = init_chat_model(\"gpt-4\", model_provider=\"openai\")"
   ]
  },
  {
   "cell_type": "code",
   "execution_count": 4,
   "id": "1b3d9116-e816-4471-b9e1-93cac356fb73",
   "metadata": {},
   "outputs": [
    {
     "name": "stdout",
     "output_type": "stream",
     "text": [
      "ContentString: Hello! How can I assist you today?\n",
      "ToolCalls: []\n"
     ]
    }
   ],
   "source": [
    "model_with_tools = model.bind_tools(tools)\n",
    "\n",
    "response = model_with_tools.invoke([HumanMessage(content=\"Hi!\")])\n",
    "\n",
    "print(f\"ContentString: {response.content}\")\n",
    "print(f\"ToolCalls: {response.tool_calls}\")"
   ]
  },
  {
   "cell_type": "code",
   "execution_count": 5,
   "id": "349a9676-6555-4aec-94d2-508e5d4ada75",
   "metadata": {},
   "outputs": [
    {
     "name": "stdout",
     "output_type": "stream",
     "text": [
      "ContentString: \n",
      "ToolCalls: [{'name': 'tavily_search_results_json', 'args': {'query': 'current weather in Amsterdam'}, 'id': 'call_Q7dsGdVGAtnmXZqrIYQLsbTl', 'type': 'tool_call'}]\n"
     ]
    }
   ],
   "source": [
    "# Now a message that need a tool call\n",
    "response = model_with_tools.invoke([HumanMessage(content=\"What's the weather in Amsterdam?\")])\n",
    "\n",
    "print(f\"ContentString: {response.content}\")\n",
    "print(f\"ToolCalls: {response.tool_calls}\")"
   ]
  },
  {
   "cell_type": "markdown",
   "id": "cdc2305e-d2a3-403f-a63e-b8a27ff8cb20",
   "metadata": {},
   "source": [
    "## Create the agent\n",
    "A *ReAct* agent allows to integrate the model with the tools."
   ]
  },
  {
   "cell_type": "code",
   "execution_count": 6,
   "id": "1283ed15-e966-44f9-9cbe-37ed61ecc8c2",
   "metadata": {},
   "outputs": [
    {
     "data": {
      "text/plain": [
       "[HumanMessage(content='hi!', additional_kwargs={}, response_metadata={}, id='670b1f05-16e4-41df-9899-10370bb809d9'),\n",
       " AIMessage(content='Hello! How can I assist you today?', additional_kwargs={'refusal': None}, response_metadata={'token_usage': {'completion_tokens': 11, 'prompt_tokens': 83, 'total_tokens': 94, 'completion_tokens_details': {'accepted_prediction_tokens': 0, 'audio_tokens': 0, 'reasoning_tokens': 0, 'rejected_prediction_tokens': 0}, 'prompt_tokens_details': {'audio_tokens': 0, 'cached_tokens': 0}}, 'model_name': 'gpt-4-0613', 'system_fingerprint': None, 'finish_reason': 'stop', 'logprobs': None}, id='run-8820eb51-65c2-4c2a-b6a7-e8252575ea57-0', usage_metadata={'input_tokens': 83, 'output_tokens': 11, 'total_tokens': 94, 'input_token_details': {'audio': 0, 'cache_read': 0}, 'output_token_details': {'audio': 0, 'reasoning': 0}})]"
      ]
     },
     "execution_count": 6,
     "metadata": {},
     "output_type": "execute_result"
    }
   ],
   "source": [
    "from langgraph.prebuilt import create_react_agent\n",
    "from langgraph.checkpoint.memory import MemorySaver\n",
    "\n",
    "memory = MemorySaver()\n",
    "agent_executor = create_react_agent(model, tools, checkpointer=memory)\n",
    "\n",
    "config = {\"configurable\": {\"thread_id\": \"abc345\"}}\n",
    "response = agent_executor.invoke({\"messages\": [HumanMessage(content=\"hi!\")]}, config)\n",
    "response[\"messages\"]"
   ]
  },
  {
   "cell_type": "code",
   "execution_count": 7,
   "id": "8fb53fed-5289-486b-89d6-439b481ae981",
   "metadata": {},
   "outputs": [
    {
     "data": {
      "text/plain": [
       "[HumanMessage(content='hi!', additional_kwargs={}, response_metadata={}, id='670b1f05-16e4-41df-9899-10370bb809d9'),\n",
       " AIMessage(content='Hello! How can I assist you today?', additional_kwargs={'refusal': None}, response_metadata={'token_usage': {'completion_tokens': 11, 'prompt_tokens': 83, 'total_tokens': 94, 'completion_tokens_details': {'accepted_prediction_tokens': 0, 'audio_tokens': 0, 'reasoning_tokens': 0, 'rejected_prediction_tokens': 0}, 'prompt_tokens_details': {'audio_tokens': 0, 'cached_tokens': 0}}, 'model_name': 'gpt-4-0613', 'system_fingerprint': None, 'finish_reason': 'stop', 'logprobs': None}, id='run-8820eb51-65c2-4c2a-b6a7-e8252575ea57-0', usage_metadata={'input_tokens': 83, 'output_tokens': 11, 'total_tokens': 94, 'input_token_details': {'audio': 0, 'cache_read': 0}, 'output_token_details': {'audio': 0, 'reasoning': 0}}),\n",
       " HumanMessage(content=\"what's the weather in Amsterdam?\", additional_kwargs={}, response_metadata={}, id='7744cbd0-253d-4cd4-a50a-762b5a516e7e'),\n",
       " AIMessage(content='', additional_kwargs={'tool_calls': [{'id': 'call_EoqITEE4P8bnmtvvTRdo8z3H', 'function': {'arguments': '{\\n  \"query\": \"current weather in Amsterdam\"\\n}', 'name': 'tavily_search_results_json'}, 'type': 'function'}], 'refusal': None}, response_metadata={'token_usage': {'completion_tokens': 23, 'prompt_tokens': 107, 'total_tokens': 130, 'completion_tokens_details': {'accepted_prediction_tokens': 0, 'audio_tokens': 0, 'reasoning_tokens': 0, 'rejected_prediction_tokens': 0}, 'prompt_tokens_details': {'audio_tokens': 0, 'cached_tokens': 0}}, 'model_name': 'gpt-4-0613', 'system_fingerprint': None, 'finish_reason': 'tool_calls', 'logprobs': None}, id='run-511ed184-9727-4e2a-83bf-ddf93f9021a2-0', tool_calls=[{'name': 'tavily_search_results_json', 'args': {'query': 'current weather in Amsterdam'}, 'id': 'call_EoqITEE4P8bnmtvvTRdo8z3H', 'type': 'tool_call'}], usage_metadata={'input_tokens': 107, 'output_tokens': 23, 'total_tokens': 130, 'input_token_details': {'audio': 0, 'cache_read': 0}, 'output_token_details': {'audio': 0, 'reasoning': 0}}),\n",
       " ToolMessage(content='[{\"url\": \"https://www.weatherapi.com/\", \"content\": \"{\\'location\\': {\\'name\\': \\'Amsterdam\\', \\'region\\': \\'North Holland\\', \\'country\\': \\'Netherlands\\', \\'lat\\': 52.374, \\'lon\\': 4.8897, \\'tz_id\\': \\'Europe/Amsterdam\\', \\'localtime_epoch\\': 1739656186, \\'localtime\\': \\'2025-02-15 22:49\\'}, \\'current\\': {\\'last_updated_epoch\\': 1739655900, \\'last_updated\\': \\'2025-02-15 22:45\\', \\'temp_c\\': 0.1, \\'temp_f\\': 32.2, \\'is_day\\': 0, \\'condition\\': {\\'text\\': \\'Clear\\', \\'icon\\': \\'//cdn.weatherapi.com/weather/64x64/night/113.png\\', \\'code\\': 1000}, \\'wind_mph\\': 5.6, \\'wind_kph\\': 9.0, \\'wind_degree\\': 80, \\'wind_dir\\': \\'E\\', \\'pressure_mb\\': 1022.0, \\'pressure_in\\': 30.18, \\'precip_mm\\': 0.0, \\'precip_in\\': 0.0, \\'humidity\\': 80, \\'cloud\\': 0, \\'feelslike_c\\': -2.9, \\'feelslike_f\\': 26.7, \\'windchill_c\\': -2.0, \\'windchill_f\\': 28.5, \\'heatindex_c\\': 0.9, \\'heatindex_f\\': 33.6, \\'dewpoint_c\\': -3.2, \\'dewpoint_f\\': 26.3, \\'vis_km\\': 10.0, \\'vis_miles\\': 6.0, \\'uv\\': 0.0, \\'gust_mph\\': 9.1, \\'gust_kph\\': 14.7}}\"}, {\"url\": \"https://www.weather25.com/europe/netherlands/noord-holland/amsterdam?page=month&month=February\", \"content\": \"Amsterdam weather in February 2025 | Weather25.com Amsterdam  Amsterdam Amsterdam weather in February 2025 🌨️ Snowy days in Amsterdam 2025 (February) The average weather in Amsterdam in February You can expect a few days of snow in Amsterdam during February. | Amsterdam in February | | Amsterdam in May | Temperatures in Amsterdam in February Weather in Amsterdam in February - FAQ The average temperature in Amsterdam in February is 3/6° C. On average, there are 10 rainy days in Amsterdam during February. Weather wise, is February a good time to visit Amsterdam? The weather in Amsterdam in February is awful. On average, there are 5 snowy days in Amsterdam in February. More about the weather in Amsterdam\"}]', name='tavily_search_results_json', id='138d059a-d02a-4dff-8264-46a1798d74cb', tool_call_id='call_EoqITEE4P8bnmtvvTRdo8z3H', artifact={'query': 'current weather in Amsterdam', 'follow_up_questions': None, 'answer': None, 'images': [], 'results': [{'title': 'Weather in Amsterdam', 'url': 'https://www.weatherapi.com/', 'content': \"{'location': {'name': 'Amsterdam', 'region': 'North Holland', 'country': 'Netherlands', 'lat': 52.374, 'lon': 4.8897, 'tz_id': 'Europe/Amsterdam', 'localtime_epoch': 1739656186, 'localtime': '2025-02-15 22:49'}, 'current': {'last_updated_epoch': 1739655900, 'last_updated': '2025-02-15 22:45', 'temp_c': 0.1, 'temp_f': 32.2, 'is_day': 0, 'condition': {'text': 'Clear', 'icon': '//cdn.weatherapi.com/weather/64x64/night/113.png', 'code': 1000}, 'wind_mph': 5.6, 'wind_kph': 9.0, 'wind_degree': 80, 'wind_dir': 'E', 'pressure_mb': 1022.0, 'pressure_in': 30.18, 'precip_mm': 0.0, 'precip_in': 0.0, 'humidity': 80, 'cloud': 0, 'feelslike_c': -2.9, 'feelslike_f': 26.7, 'windchill_c': -2.0, 'windchill_f': 28.5, 'heatindex_c': 0.9, 'heatindex_f': 33.6, 'dewpoint_c': -3.2, 'dewpoint_f': 26.3, 'vis_km': 10.0, 'vis_miles': 6.0, 'uv': 0.0, 'gust_mph': 9.1, 'gust_kph': 14.7}}\", 'score': 0.9966967, 'raw_content': None}, {'url': 'https://www.weather25.com/europe/netherlands/noord-holland/amsterdam?page=month&month=February', 'title': 'Amsterdam weather in February 2025 | Weather25.com', 'content': 'Amsterdam weather in February 2025 | Weather25.com Amsterdam  Amsterdam Amsterdam weather in February 2025 🌨️ Snowy days in Amsterdam 2025 (February) The average weather in Amsterdam in February You can expect a few days of snow in Amsterdam during February. | Amsterdam in February | | Amsterdam in May | Temperatures in Amsterdam in February Weather in Amsterdam in February - FAQ The average temperature in Amsterdam in February is 3/6° C. On average, there are 10 rainy days in Amsterdam during February. Weather wise, is February a good time to visit Amsterdam? The weather in Amsterdam in February is awful. On average, there are 5 snowy days in Amsterdam in February. More about the weather in Amsterdam', 'score': 0.86954874, 'raw_content': None}], 'response_time': 1.82}),\n",
       " AIMessage(content='The current weather in Amsterdam is 0.1°C (32.2°F). The condition is clear and the wind is coming from the east at 9.0 km/h. The visibility is good with 10.0 km. Please note that it feels colder than it actually is due to the windchill. The feels-like temperature is -2.9°C (26.7°F). [Source](https://www.weatherapi.com/)', additional_kwargs={'refusal': None}, response_metadata={'token_usage': {'completion_tokens': 93, 'prompt_tokens': 726, 'total_tokens': 819, 'completion_tokens_details': {'accepted_prediction_tokens': 0, 'audio_tokens': 0, 'reasoning_tokens': 0, 'rejected_prediction_tokens': 0}, 'prompt_tokens_details': {'audio_tokens': 0, 'cached_tokens': 0}}, 'model_name': 'gpt-4-0613', 'system_fingerprint': None, 'finish_reason': 'stop', 'logprobs': None}, id='run-6b509915-ea50-48f1-988f-d3a65249829b-0', usage_metadata={'input_tokens': 726, 'output_tokens': 93, 'total_tokens': 819, 'input_token_details': {'audio': 0, 'cache_read': 0}, 'output_token_details': {'audio': 0, 'reasoning': 0}})]"
      ]
     },
     "execution_count": 7,
     "metadata": {},
     "output_type": "execute_result"
    }
   ],
   "source": [
    "response = agent_executor.invoke(\n",
    "    {\"messages\": [HumanMessage(content=\"what's the weather in Amsterdam?\")]}, config\n",
    ")\n",
    "response[\"messages\"]"
   ]
  },
  {
   "cell_type": "code",
   "execution_count": 8,
   "id": "e035b84d-323e-417f-ae7f-39d35cbe0a1f",
   "metadata": {},
   "outputs": [
    {
     "data": {
      "text/plain": [
       "[HumanMessage(content='hi!', additional_kwargs={}, response_metadata={}, id='670b1f05-16e4-41df-9899-10370bb809d9'),\n",
       " AIMessage(content='Hello! How can I assist you today?', additional_kwargs={'refusal': None}, response_metadata={'token_usage': {'completion_tokens': 11, 'prompt_tokens': 83, 'total_tokens': 94, 'completion_tokens_details': {'accepted_prediction_tokens': 0, 'audio_tokens': 0, 'reasoning_tokens': 0, 'rejected_prediction_tokens': 0}, 'prompt_tokens_details': {'audio_tokens': 0, 'cached_tokens': 0}}, 'model_name': 'gpt-4-0613', 'system_fingerprint': None, 'finish_reason': 'stop', 'logprobs': None}, id='run-8820eb51-65c2-4c2a-b6a7-e8252575ea57-0', usage_metadata={'input_tokens': 83, 'output_tokens': 11, 'total_tokens': 94, 'input_token_details': {'audio': 0, 'cache_read': 0}, 'output_token_details': {'audio': 0, 'reasoning': 0}}),\n",
       " HumanMessage(content=\"what's the weather in Amsterdam?\", additional_kwargs={}, response_metadata={}, id='7744cbd0-253d-4cd4-a50a-762b5a516e7e'),\n",
       " AIMessage(content='', additional_kwargs={'tool_calls': [{'id': 'call_EoqITEE4P8bnmtvvTRdo8z3H', 'function': {'arguments': '{\\n  \"query\": \"current weather in Amsterdam\"\\n}', 'name': 'tavily_search_results_json'}, 'type': 'function'}], 'refusal': None}, response_metadata={'token_usage': {'completion_tokens': 23, 'prompt_tokens': 107, 'total_tokens': 130, 'completion_tokens_details': {'accepted_prediction_tokens': 0, 'audio_tokens': 0, 'reasoning_tokens': 0, 'rejected_prediction_tokens': 0}, 'prompt_tokens_details': {'audio_tokens': 0, 'cached_tokens': 0}}, 'model_name': 'gpt-4-0613', 'system_fingerprint': None, 'finish_reason': 'tool_calls', 'logprobs': None}, id='run-511ed184-9727-4e2a-83bf-ddf93f9021a2-0', tool_calls=[{'name': 'tavily_search_results_json', 'args': {'query': 'current weather in Amsterdam'}, 'id': 'call_EoqITEE4P8bnmtvvTRdo8z3H', 'type': 'tool_call'}], usage_metadata={'input_tokens': 107, 'output_tokens': 23, 'total_tokens': 130, 'input_token_details': {'audio': 0, 'cache_read': 0}, 'output_token_details': {'audio': 0, 'reasoning': 0}}),\n",
       " ToolMessage(content='[{\"url\": \"https://www.weatherapi.com/\", \"content\": \"{\\'location\\': {\\'name\\': \\'Amsterdam\\', \\'region\\': \\'North Holland\\', \\'country\\': \\'Netherlands\\', \\'lat\\': 52.374, \\'lon\\': 4.8897, \\'tz_id\\': \\'Europe/Amsterdam\\', \\'localtime_epoch\\': 1739656186, \\'localtime\\': \\'2025-02-15 22:49\\'}, \\'current\\': {\\'last_updated_epoch\\': 1739655900, \\'last_updated\\': \\'2025-02-15 22:45\\', \\'temp_c\\': 0.1, \\'temp_f\\': 32.2, \\'is_day\\': 0, \\'condition\\': {\\'text\\': \\'Clear\\', \\'icon\\': \\'//cdn.weatherapi.com/weather/64x64/night/113.png\\', \\'code\\': 1000}, \\'wind_mph\\': 5.6, \\'wind_kph\\': 9.0, \\'wind_degree\\': 80, \\'wind_dir\\': \\'E\\', \\'pressure_mb\\': 1022.0, \\'pressure_in\\': 30.18, \\'precip_mm\\': 0.0, \\'precip_in\\': 0.0, \\'humidity\\': 80, \\'cloud\\': 0, \\'feelslike_c\\': -2.9, \\'feelslike_f\\': 26.7, \\'windchill_c\\': -2.0, \\'windchill_f\\': 28.5, \\'heatindex_c\\': 0.9, \\'heatindex_f\\': 33.6, \\'dewpoint_c\\': -3.2, \\'dewpoint_f\\': 26.3, \\'vis_km\\': 10.0, \\'vis_miles\\': 6.0, \\'uv\\': 0.0, \\'gust_mph\\': 9.1, \\'gust_kph\\': 14.7}}\"}, {\"url\": \"https://www.weather25.com/europe/netherlands/noord-holland/amsterdam?page=month&month=February\", \"content\": \"Amsterdam weather in February 2025 | Weather25.com Amsterdam  Amsterdam Amsterdam weather in February 2025 🌨️ Snowy days in Amsterdam 2025 (February) The average weather in Amsterdam in February You can expect a few days of snow in Amsterdam during February. | Amsterdam in February | | Amsterdam in May | Temperatures in Amsterdam in February Weather in Amsterdam in February - FAQ The average temperature in Amsterdam in February is 3/6° C. On average, there are 10 rainy days in Amsterdam during February. Weather wise, is February a good time to visit Amsterdam? The weather in Amsterdam in February is awful. On average, there are 5 snowy days in Amsterdam in February. More about the weather in Amsterdam\"}]', name='tavily_search_results_json', id='138d059a-d02a-4dff-8264-46a1798d74cb', tool_call_id='call_EoqITEE4P8bnmtvvTRdo8z3H', artifact={'query': 'current weather in Amsterdam', 'follow_up_questions': None, 'answer': None, 'images': [], 'results': [{'title': 'Weather in Amsterdam', 'url': 'https://www.weatherapi.com/', 'content': \"{'location': {'name': 'Amsterdam', 'region': 'North Holland', 'country': 'Netherlands', 'lat': 52.374, 'lon': 4.8897, 'tz_id': 'Europe/Amsterdam', 'localtime_epoch': 1739656186, 'localtime': '2025-02-15 22:49'}, 'current': {'last_updated_epoch': 1739655900, 'last_updated': '2025-02-15 22:45', 'temp_c': 0.1, 'temp_f': 32.2, 'is_day': 0, 'condition': {'text': 'Clear', 'icon': '//cdn.weatherapi.com/weather/64x64/night/113.png', 'code': 1000}, 'wind_mph': 5.6, 'wind_kph': 9.0, 'wind_degree': 80, 'wind_dir': 'E', 'pressure_mb': 1022.0, 'pressure_in': 30.18, 'precip_mm': 0.0, 'precip_in': 0.0, 'humidity': 80, 'cloud': 0, 'feelslike_c': -2.9, 'feelslike_f': 26.7, 'windchill_c': -2.0, 'windchill_f': 28.5, 'heatindex_c': 0.9, 'heatindex_f': 33.6, 'dewpoint_c': -3.2, 'dewpoint_f': 26.3, 'vis_km': 10.0, 'vis_miles': 6.0, 'uv': 0.0, 'gust_mph': 9.1, 'gust_kph': 14.7}}\", 'score': 0.9966967, 'raw_content': None}, {'url': 'https://www.weather25.com/europe/netherlands/noord-holland/amsterdam?page=month&month=February', 'title': 'Amsterdam weather in February 2025 | Weather25.com', 'content': 'Amsterdam weather in February 2025 | Weather25.com Amsterdam  Amsterdam Amsterdam weather in February 2025 🌨️ Snowy days in Amsterdam 2025 (February) The average weather in Amsterdam in February You can expect a few days of snow in Amsterdam during February. | Amsterdam in February | | Amsterdam in May | Temperatures in Amsterdam in February Weather in Amsterdam in February - FAQ The average temperature in Amsterdam in February is 3/6° C. On average, there are 10 rainy days in Amsterdam during February. Weather wise, is February a good time to visit Amsterdam? The weather in Amsterdam in February is awful. On average, there are 5 snowy days in Amsterdam in February. More about the weather in Amsterdam', 'score': 0.86954874, 'raw_content': None}], 'response_time': 1.82}),\n",
       " AIMessage(content='The current weather in Amsterdam is 0.1°C (32.2°F). The condition is clear and the wind is coming from the east at 9.0 km/h. The visibility is good with 10.0 km. Please note that it feels colder than it actually is due to the windchill. The feels-like temperature is -2.9°C (26.7°F). [Source](https://www.weatherapi.com/)', additional_kwargs={'refusal': None}, response_metadata={'token_usage': {'completion_tokens': 93, 'prompt_tokens': 726, 'total_tokens': 819, 'completion_tokens_details': {'accepted_prediction_tokens': 0, 'audio_tokens': 0, 'reasoning_tokens': 0, 'rejected_prediction_tokens': 0}, 'prompt_tokens_details': {'audio_tokens': 0, 'cached_tokens': 0}}, 'model_name': 'gpt-4-0613', 'system_fingerprint': None, 'finish_reason': 'stop', 'logprobs': None}, id='run-6b509915-ea50-48f1-988f-d3a65249829b-0', usage_metadata={'input_tokens': 726, 'output_tokens': 93, 'total_tokens': 819, 'input_token_details': {'audio': 0, 'cache_read': 0}, 'output_token_details': {'audio': 0, 'reasoning': 0}}),\n",
       " HumanMessage(content='what about tomorrow?', additional_kwargs={}, response_metadata={}, id='a8e9add3-b551-436a-b986-e8843b3af49b'),\n",
       " AIMessage(content='', additional_kwargs={'tool_calls': [{'id': 'call_bjWZ3QsvDz8bcKzfAV3MEpSX', 'function': {'arguments': '{\"query\": \"Amsterdam weather forecast for tomorrow\"}', 'name': 'tavily_search_results_json'}, 'type': 'function'}], 'refusal': None}, response_metadata={'token_usage': {'completion_tokens': 22, 'prompt_tokens': 829, 'total_tokens': 851, 'completion_tokens_details': {'accepted_prediction_tokens': 0, 'audio_tokens': 0, 'reasoning_tokens': 0, 'rejected_prediction_tokens': 0}, 'prompt_tokens_details': {'audio_tokens': 0, 'cached_tokens': 0}}, 'model_name': 'gpt-4-0613', 'system_fingerprint': None, 'finish_reason': 'tool_calls', 'logprobs': None}, id='run-21375882-8fbe-4086-9a90-b33810988919-0', tool_calls=[{'name': 'tavily_search_results_json', 'args': {'query': 'Amsterdam weather forecast for tomorrow'}, 'id': 'call_bjWZ3QsvDz8bcKzfAV3MEpSX', 'type': 'tool_call'}], usage_metadata={'input_tokens': 829, 'output_tokens': 22, 'total_tokens': 851, 'input_token_details': {'audio': 0, 'cache_read': 0}, 'output_token_details': {'audio': 0, 'reasoning': 0}}),\n",
       " ToolMessage(content='[{\"url\": \"https://www.weatherapi.com/\", \"content\": \"{\\'location\\': {\\'name\\': \\'Amsterdam\\', \\'region\\': \\'North Holland\\', \\'country\\': \\'Netherlands\\', \\'lat\\': 52.374, \\'lon\\': 4.8897, \\'tz_id\\': \\'Europe/Amsterdam\\', \\'localtime_epoch\\': 1739657652, \\'localtime\\': \\'2025-02-15 23:14\\'}, \\'current\\': {\\'last_updated_epoch\\': 1739656800, \\'last_updated\\': \\'2025-02-15 23:00\\', \\'temp_c\\': 0.1, \\'temp_f\\': 32.2, \\'is_day\\': 0, \\'condition\\': {\\'text\\': \\'Clear\\', \\'icon\\': \\'//cdn.weatherapi.com/weather/64x64/night/113.png\\', \\'code\\': 1000}, \\'wind_mph\\': 6.7, \\'wind_kph\\': 10.8, \\'wind_degree\\': 76, \\'wind_dir\\': \\'ENE\\', \\'pressure_mb\\': 1022.0, \\'pressure_in\\': 30.18, \\'precip_mm\\': 0.0, \\'precip_in\\': 0.0, \\'humidity\\': 80, \\'cloud\\': 0, \\'feelslike_c\\': -3.4, \\'feelslike_f\\': 25.9, \\'windchill_c\\': -2.9, \\'windchill_f\\': 26.8, \\'heatindex_c\\': 0.5, \\'heatindex_f\\': 33.0, \\'dewpoint_c\\': -3.3, \\'dewpoint_f\\': 26.0, \\'vis_km\\': 10.0, \\'vis_miles\\': 6.0, \\'uv\\': 0.0, \\'gust_mph\\': 11.1, \\'gust_kph\\': 17.8}}\"}, {\"url\": \"https://www.easeweather.com/europe/netherlands/north-holland/gemeente-amsterdam/amsterdam/february\", \"content\": \"Weather in Amsterdam in February 2025 - Detailed Forecast Weather in Amsterdam for February 2025 With an average of 3 snowy days, Amsterdam usually enjoys a light touch of snow in February. In general, the average temperature in Amsterdam at the beginning of February is 8\\xa0°C. Amsterdam in February average weather Temperatures trend during February in Amsterdam In February, Amsterdam, Netherlands experiences cold and often wet weather. Overall, February in Amsterdam can be quite cold and damp, making it important for travelers to plan accordingly and be prepared for the weather conditions. Will it snow in Amsterdam in February 2025? Amsterdam snow forecast February 2025 Explore the daily rainfall trends and prepare for Amsterdams February weather\\xa0💧\"}]', name='tavily_search_results_json', id='18396332-fb5b-48b3-91ba-d5bd714fe636', tool_call_id='call_bjWZ3QsvDz8bcKzfAV3MEpSX', artifact={'query': 'Amsterdam weather forecast for tomorrow', 'follow_up_questions': None, 'answer': None, 'images': [], 'results': [{'title': 'Weather in Amsterdam', 'url': 'https://www.weatherapi.com/', 'content': \"{'location': {'name': 'Amsterdam', 'region': 'North Holland', 'country': 'Netherlands', 'lat': 52.374, 'lon': 4.8897, 'tz_id': 'Europe/Amsterdam', 'localtime_epoch': 1739657652, 'localtime': '2025-02-15 23:14'}, 'current': {'last_updated_epoch': 1739656800, 'last_updated': '2025-02-15 23:00', 'temp_c': 0.1, 'temp_f': 32.2, 'is_day': 0, 'condition': {'text': 'Clear', 'icon': '//cdn.weatherapi.com/weather/64x64/night/113.png', 'code': 1000}, 'wind_mph': 6.7, 'wind_kph': 10.8, 'wind_degree': 76, 'wind_dir': 'ENE', 'pressure_mb': 1022.0, 'pressure_in': 30.18, 'precip_mm': 0.0, 'precip_in': 0.0, 'humidity': 80, 'cloud': 0, 'feelslike_c': -3.4, 'feelslike_f': 25.9, 'windchill_c': -2.9, 'windchill_f': 26.8, 'heatindex_c': 0.5, 'heatindex_f': 33.0, 'dewpoint_c': -3.3, 'dewpoint_f': 26.0, 'vis_km': 10.0, 'vis_miles': 6.0, 'uv': 0.0, 'gust_mph': 11.1, 'gust_kph': 17.8}}\", 'score': 0.9894844, 'raw_content': None}, {'url': 'https://www.easeweather.com/europe/netherlands/north-holland/gemeente-amsterdam/amsterdam/february', 'title': 'Weather in Amsterdam in February 2025 - Detailed Forecast', 'content': 'Weather in Amsterdam in February 2025 - Detailed Forecast Weather in Amsterdam for February 2025 With an average of 3 snowy days, Amsterdam usually enjoys a light touch of snow in February. In general, the average temperature in Amsterdam at the beginning of February is 8\\xa0°C. Amsterdam in February average weather Temperatures trend during February in Amsterdam In February, Amsterdam, Netherlands experiences cold and often wet weather. Overall, February in Amsterdam can be quite cold and damp, making it important for travelers to plan accordingly and be prepared for the weather conditions. Will it snow in Amsterdam in February 2025? Amsterdam snow forecast February 2025 Explore the daily rainfall trends and prepare for Amsterdams February weather\\xa0💧', 'score': 0.9092728, 'raw_content': None}], 'response_time': 3.15}),\n",
       " AIMessage(content=\"I'm sorry, but I was unable to find the exact weather forecast for tomorrow in Amsterdam. However, generally in February, Amsterdam often experiences cold and damp weather with an average temperature around 8°C at the beginning of the month. There's also a possibility of snow as Amsterdam usually enjoys a light touch of snow in February. Please check a reliable weather forecast closer to the time for more precise information. [Source](https://www.easeweather.com/europe/netherlands/north-holland/gemeente-amsterdam/amsterdam/february)\", additional_kwargs={'refusal': None}, response_metadata={'token_usage': {'completion_tokens': 113, 'prompt_tokens': 1450, 'total_tokens': 1563, 'completion_tokens_details': {'accepted_prediction_tokens': 0, 'audio_tokens': 0, 'reasoning_tokens': 0, 'rejected_prediction_tokens': 0}, 'prompt_tokens_details': {'audio_tokens': 0, 'cached_tokens': 0}}, 'model_name': 'gpt-4-0613', 'system_fingerprint': None, 'finish_reason': 'stop', 'logprobs': None}, id='run-06444865-53a1-482e-a300-926bad0ef41b-0', usage_metadata={'input_tokens': 1450, 'output_tokens': 113, 'total_tokens': 1563, 'input_token_details': {'audio': 0, 'cache_read': 0}, 'output_token_details': {'audio': 0, 'reasoning': 0}})]"
      ]
     },
     "execution_count": 8,
     "metadata": {},
     "output_type": "execute_result"
    }
   ],
   "source": [
    "# Checking memory\n",
    "response = agent_executor.invoke(\n",
    "    {\"messages\": [HumanMessage(content=\"what about tomorrow?\")]}, config\n",
    ")\n",
    "response[\"messages\"]"
   ]
  },
  {
   "cell_type": "code",
   "execution_count": null,
   "id": "8ceac386-695e-4987-a9b1-b460191be7c7",
   "metadata": {},
   "outputs": [],
   "source": []
  }
 ],
 "metadata": {
  "kernelspec": {
   "display_name": "Python (jupyter_env)",
   "language": "python",
   "name": "jupyter_env"
  },
  "language_info": {
   "codemirror_mode": {
    "name": "ipython",
    "version": 3
   },
   "file_extension": ".py",
   "mimetype": "text/x-python",
   "name": "python",
   "nbconvert_exporter": "python",
   "pygments_lexer": "ipython3",
   "version": "3.12.7"
  }
 },
 "nbformat": 4,
 "nbformat_minor": 5
}
