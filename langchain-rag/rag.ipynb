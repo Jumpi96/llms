{
 "cells": [
  {
   "cell_type": "markdown",
   "id": "58063db9-6aa3-41fb-a3a3-43499b2f743c",
   "metadata": {},
   "source": [
    "# Build a Retrieval Augmented Generation (RAG) App\n",
    "## Part 1\n",
    "### Setup"
   ]
  },
  {
   "cell_type": "code",
   "execution_count": 1,
   "id": "a6ceacf7-eeb5-44ec-8ce2-e64382752ddc",
   "metadata": {},
   "outputs": [],
   "source": [
    "import yaml\n",
    "import os\n",
    "\n",
    "with open(\"config.yaml\", \"r\") as file:\n",
    "    config = yaml.safe_load(file)\n",
    "\n",
    "for key in config.keys():\n",
    "    os.environ[key] = config[key]"
   ]
  },
  {
   "cell_type": "markdown",
   "id": "ca420869-7096-402f-a248-e7fb41c9c007",
   "metadata": {},
   "source": [
    "### Chat model, embeddings model and vector store"
   ]
  },
  {
   "cell_type": "code",
   "execution_count": 2,
   "id": "d215aea8-27d6-42ff-95d2-fbc699d99490",
   "metadata": {},
   "outputs": [],
   "source": [
    "from langchain.chat_models import init_chat_model\n",
    "from langchain_openai import OpenAIEmbeddings\n",
    "from langchain_core.vectorstores import InMemoryVectorStore\n",
    "\n",
    "llm = init_chat_model(\"gpt-4o-mini\", model_provider=\"openai\")\n",
    "embeddings = OpenAIEmbeddings(model=\"text-embedding-3-large\")\n",
    "vector_store = InMemoryVectorStore(embeddings)"
   ]
  },
  {
   "cell_type": "markdown",
   "id": "0c722d5b-694b-4041-b150-427393765148",
   "metadata": {},
   "source": [
    "### Building the vector storage\n",
    "Using a `TextLoader` here, but other loaders could be used (e.g. `WebBaseLoader`).\n",
    "\n",
    "`RecursiveCharacterTextSplitter` is used, recursively splitting the text by common characters up to the correct size. This specific text is not so big and could match the model context window but it works for bigger texts too."
   ]
  },
  {
   "cell_type": "code",
   "execution_count": 3,
   "id": "81497bf8-ed67-441d-bf30-068013e56937",
   "metadata": {},
   "outputs": [
    {
     "name": "stdout",
     "output_type": "stream",
     "text": [
      "Split blog post into 35 sub-documents.\n"
     ]
    }
   ],
   "source": [
    "from langchain_community.document_loaders import TextLoader\n",
    "from langchain_text_splitters import RecursiveCharacterTextSplitter\n",
    "\n",
    "loader = TextLoader(\"./inland_empire_transcript.txt\")\n",
    "docs = loader.load()\n",
    "\n",
    "text_splitter = RecursiveCharacterTextSplitter(chunk_size=1000, chunk_overlap=200)\n",
    "all_splits = text_splitter.split_documents(docs)\n",
    "\n",
    "print(f\"Split blog post into {len(all_splits)} sub-documents.\")\n",
    "\n",
    "# Index chunks\n",
    "_ = vector_store.add_documents(documents=all_splits)"
   ]
  },
  {
   "cell_type": "markdown",
   "id": "4770447b-99fd-4f09-829d-4dd7d0884f71",
   "metadata": {},
   "source": [
    "### Define application"
   ]
  },
  {
   "cell_type": "code",
   "execution_count": 4,
   "id": "84aacb67-47d6-49d5-bf7a-53e61c0c87ae",
   "metadata": {},
   "outputs": [],
   "source": [
    "from typing_extensions import List, TypedDict\n",
    "from langgraph.graph import START, StateGraph\n",
    "from langchain_core.documents import Document\n",
    "from langchain import hub\n",
    "\n",
    "# Define prompt for question-answering\n",
    "prompt = hub.pull(\"rlm/rag-prompt\")\n",
    "\n",
    "# Define state for application\n",
    "class State(TypedDict):\n",
    "    question: str\n",
    "    context: List[Document]\n",
    "    answer: str\n",
    "\n",
    "\n",
    "# Define application steps\n",
    "def retrieve(state: State):\n",
    "    retrieved_docs = vector_store.similarity_search(state[\"question\"])\n",
    "    return {\"context\": retrieved_docs}\n",
    "\n",
    "\n",
    "def generate(state: State):\n",
    "    docs_content = \"\\n\\n\".join(doc.page_content for doc in state[\"context\"])\n",
    "    messages = prompt.invoke({\"question\": state[\"question\"], \"context\": docs_content})\n",
    "    response = llm.invoke(messages)\n",
    "    return {\"answer\": response.content}\n",
    "\n",
    "\n",
    "# Compile application and test\n",
    "graph_builder = StateGraph(State).add_sequence([retrieve, generate])\n",
    "graph_builder.add_edge(START, \"retrieve\")\n",
    "graph = graph_builder.compile()"
   ]
  },
  {
   "cell_type": "markdown",
   "id": "198d818a-ee0b-415a-b3b9-4c80e747602c",
   "metadata": {},
   "source": [
    "### Using the app"
   ]
  },
  {
   "cell_type": "code",
   "execution_count": 5,
   "id": "d50924ee-8415-4000-a4a3-5bd5baabe964",
   "metadata": {},
   "outputs": [
    {
     "name": "stdout",
     "output_type": "stream",
     "text": [
      "The neighbor woman is referred to as Visitor #1, who introduces herself as a new neighbor to Nikki. She represents a sense of mystery and possibly the idea of hidden truths or dangers that exist in familiar settings. Her presence and dialogue suggest themes of forgetfulness, life choices, and the darker undercurrents of seemingly normal lives.\n"
     ]
    }
   ],
   "source": [
    "response = graph.invoke({\"question\": \"Who is the neighbor woman? What it represents?\"})\n",
    "print(response[\"answer\"])"
   ]
  },
  {
   "cell_type": "code",
   "execution_count": 6,
   "id": "6c6936a0-9e9f-442c-b6b2-ddff3672ca58",
   "metadata": {},
   "outputs": [
    {
     "name": "stdout",
     "output_type": "stream",
     "text": [
      "Total characters: 26794\n",
      "(Rays of light are seen in black and white coming out of a projector. The crackling noise of an old record and loud sounds are heard in the background. We see a close-up of a vinyl record playing. A round of applause is heard.)\n",
      "\n",
      "Narrator: Axxon N., the longest-running radio play in history: tonight, continuing in the Baltic region, a grey winter day in an old hotel.\n",
      "\n",
      "Woman #1: Na schodach jest ciemno.\n",
      "\n",
      "(Man #1 and Woman #1 walk down the hallway of a hotel.)\n",
      "\n",
      "Woman #1: Nie rozpoznaję tego korytar\n"
     ]
    }
   ],
   "source": [
    "print(f\"Total characters: {len(docs[0].page_content)}\")\n",
    "print(docs[0].page_content[:500])"
   ]
  },
  {
   "cell_type": "markdown",
   "id": "81885daf-760c-4a7f-b207-3c4c83e8b12d",
   "metadata": {},
   "source": [
    "### Query analisis\n",
    "So far, we are executing the retrieval using the raw input query. \n",
    "\n",
    "But we could use the model to generate the query for better queries or to use some kind of filtering.\n",
    "\n",
    "#### Example with a filter"
   ]
  },
  {
   "cell_type": "code",
   "execution_count": 7,
   "id": "ee17a9d3-1890-4042-b3c1-5b8ca414ce67",
   "metadata": {},
   "outputs": [],
   "source": [
    "total_documents = len(all_splits)\n",
    "third = total_documents // 3\n",
    "\n",
    "for i, document in enumerate(all_splits):\n",
    "    if i < third:\n",
    "        document.metadata[\"section\"] = \"beginning\"\n",
    "    elif i < 2 * third:\n",
    "        document.metadata[\"section\"] = \"middle\"\n",
    "    else:\n",
    "        document.metadata[\"section\"] = \"end\"\n",
    "\n",
    "\n",
    "all_splits[0].metadata\n",
    "vector_store = InMemoryVectorStore(embeddings)\n",
    "_ = vector_store.add_documents(all_splits)"
   ]
  },
  {
   "cell_type": "code",
   "execution_count": 8,
   "id": "8cde3b21-b4a8-4762-bfce-5ba1f0f640cd",
   "metadata": {},
   "outputs": [
    {
     "data": {
      "image/png": "[encoded data removed]",
      "text/plain": [
       "<IPython.core.display.Image object>"
      ]
     },
     "metadata": {},
     "output_type": "display_data"
    }
   ],
   "source": [
    "from typing import Literal\n",
    "from IPython.display import Image, display\n",
    "from typing_extensions import Annotated\n",
    "\n",
    "class Search(TypedDict):\n",
    "    \"\"\"Search query.\"\"\"\n",
    "\n",
    "    query: Annotated[str, ..., \"Search query to run.\"]\n",
    "    section: Annotated[\n",
    "        Literal[\"beginning\", \"middle\", \"end\"],\n",
    "        ...,\n",
    "        \"Section to query.\",\n",
    "    ]\n",
    "\n",
    "\n",
    "# Define state for application\n",
    "class StateWithQuery(TypedDict):\n",
    "    question: str\n",
    "    query: Search\n",
    "    context: List[Document]\n",
    "    answer: str\n",
    "\n",
    "\n",
    "\n",
    "def analyze_query(state: StateWithQuery):\n",
    "    structured_llm = llm.with_structured_output(Search)\n",
    "    query = structured_llm.invoke(state[\"question\"])\n",
    "    return {\"query\": query}\n",
    "\n",
    "def retrieve_with_filter(state: StateWithQuery):\n",
    "    query = state[\"query\"]\n",
    "    retrieved_docs = vector_store.similarity_search(\n",
    "        query[\"query\"],\n",
    "        filter=lambda doc: doc.metadata.get(\"section\") == query[\"section\"],\n",
    "    )\n",
    "    return {\"context\": retrieved_docs}\n",
    "\n",
    "graph_builder = StateGraph(StateWithQuery).add_sequence([analyze_query, retrieve_with_filter, generate])\n",
    "graph_builder.add_edge(START, \"analyze_query\")\n",
    "graph = graph_builder.compile()\n",
    "display(Image(graph.get_graph().draw_mermaid_png()))"
   ]
  },
  {
   "cell_type": "code",
   "execution_count": 10,
   "id": "444b46b9-4567-48fd-aff5-6395ab1f5aa0",
   "metadata": {},
   "outputs": [
    {
     "name": "stdout",
     "output_type": "stream",
     "text": [
      "{'analyze_query': {'query': {'query': 'topic from the beginning of the transcript', 'section': 'beginning'}}}\n",
      "\n",
      "----------------\n",
      "\n",
      "{'retrieve_with_filter': {'context': [Document(id='aa2b3f3e-cf1e-4303-a59c-08b336a3097f', metadata={'source': './inland_empire_transcript.txt', 'section': 'beginning'}, page_content='(Rays of light are seen in black and white coming out of a projector. The crackling noise of an old record and loud sounds are heard in the background. We see a close-up of a vinyl record playing. A round of applause is heard.)\\n\\nNarrator: Axxon N., the longest-running radio play in history: tonight, continuing in the Baltic region, a grey winter day in an old hotel.\\n\\nWoman #1: Na schodach jest ciemno.\\n\\n(Man #1 and Woman #1 walk down the hallway of a hotel.)\\n\\nWoman #1: Nie rozpoznaję tego korytarza. Gdzie my jesteśmy?\\n\\nMan #1: To nasz pokój.\\n\\nWoman #1: (looking for the key in her purse) Nie mam klucza.\\n\\nMan #1: Nie, nie masz. Dałaś go mnie. Ja go mam.\\n\\nWoman #1: Co się ze mną dzieje? (Man #1 opens the door and both enter the room.) To jest ten pokój? Nie rozpoznaję go.\\n\\nMan #1: Rozbierz się.\\n\\nWoman #1: Dobrze.\\n\\n(Woman #1 sits down.)\\n\\nMan #1: Wiesz, czym zajmują się dziwki?\\n\\nWoman #1: Tak. Pieprzą się. (undressing) Chcesz mnie przelecieć?'), Document(id='c8faf535-18fc-4b27-b9ee-91798ecef44e', metadata={'source': './inland_empire_transcript.txt', 'section': 'beginning'}, page_content=\"Kingsley: Nikki, it's we who are happy and fortunate to have you onboard on this film, on this role. I meant everything I said in praising Devon. And, forgive me, I do love making speeches. I mean this too: you have everything you need to soar back to the top and stay perched there. This film, you and Devon, a great director... Yes, do I hear? The script as well, we're gonna plunge into it. If we all play our role, do our best. If we work hard together, well, this could be the one. This is a star maker if ever I saw one, you'll see. I think we have a chance to pull it off. What do you say?\\n\\nNikki: Let's do it.\\n\\nDevon: Well, if you don't fuck it up, Kingsley, I'm sure we can.\\n\\n(Kingsley laughs. So does the producer.)\\n\\nProducer: I've never felt better in my life. Champagne and caviar is on its way.\\n\\n(Applauses are heard. Cut to the set of a live interview for The Marilyn Levens Starlight Celebrity Show.)\"), Document(id='3d460c4a-0749-42b9-8496-89124ea48d20', metadata={'source': './inland_empire_transcript.txt', 'section': 'beginning'}, page_content=\"Nikki: Uh, no. That's not part of the story.\\n\\nVisitor #1: No. I think you are wrong about that.\\n\\nNikki: No.\\n\\nVisitor #1: Brutal fucking murder!\\n\\nNikki: Uh, I don't like this kind of talk. The things you've been saying... I think you should go now.\\n\\nVisitor #1: (Nods.) Yes. Me, I—I can't seem to remember if it's today, two days from now or... yesterday! I suppose if it was nine forty-five, I'd think it was after midnight. For instance: if today was tomorrow, you wouldn't even remember that you owed on an unpaid bill. Actions do have consequences... and yet, there is the magic. If it was tomorrow, you would be sitting over there. (She points towards the couch in front of them. They both look in that direction.) Do you see?\\n\\n(Nikki, Linda and Tracy are sitting down on the same couch. Henry the Butler approaches them with a wireless phone.)\\n\\nHenry: Excuse me, ma'am? Excuse me, ma'am? Telephone. It's for you. (handing the phone over to Nikki) It's your agent.\"), Document(id='7688e9e3-8af2-49ac-bb01-b9863a5e6bac', metadata={'source': './inland_empire_transcript.txt', 'section': 'beginning'}, page_content=\"Janek: Tak. Doskonale rozumiem.\\n\\nPhantom: Dobrze. Dobrze, że rozumiesz.\\n\\n(The shot of Janek blurs out again.)\\n\\nPhantom: To dobrze. Dobrze, że... rozumiesz.\\n\\n(The same shot of Jack in the room, empty and dark again, focused on by the spotlight. He appears to be leaving. Fade to black. Visitor #1 goes to Nikki's mansion and rings the doorbell. Uninvited, she opens the outermost door. Nikki walks over to observe from far while Henry the Butler checks who it is. He opens the innermost door and finds Visitor #1.)\\n\\nHenry: May I help you?\\n\\n(Visitor #1 speaks with a strong, foreign accent.)\\n\\nVisitor #1: Yes. I'm a new neighbor. I live just down the street.\\n\\nHenry: (turning over to Nikki) Madam?\\n\\n(Nikki nods. Henry the Butler opens the door and Visitor #1 enters.)\\n\\nVisitor #1: Hello! I don't mean to intrude. I'm your new neighbor. I... hope this isn't inconvenient for you.\\n\\nNikki: No, no. Um... please sit down.\\n\\nVisitor #1: Oh, (looking around) such a lovely home you have!\")]}}\n",
      "\n",
      "----------------\n",
      "\n",
      "{'generate': {'answer': 'The topic from the beginning of the transcript appears to revolve around a radio play titled \"Axxon N.\" set in an old hotel during a grey winter day in the Baltic region. The scene introduces characters in a hotel situation with a focus on dialogue that hints at personal tension and confusion. Overall, it establishes a dramatic atmosphere while intertwining audio elements like applause and background noises.'}}\n",
      "\n",
      "----------------\n",
      "\n"
     ]
    }
   ],
   "source": [
    "for step in graph.stream(\n",
    "    {\"question\": \"What is the topic from the beginning of the transcript?\"},\n",
    "    stream_mode=\"updates\",\n",
    "):\n",
    "    print(f\"{step}\\n\\n----------------\\n\")"
   ]
  },
  {
   "cell_type": "code",
   "execution_count": null,
   "id": "e5c2aadb-74dc-4597-8de2-6ac0601b15c2",
   "metadata": {},
   "outputs": [],
   "source": []
  }
 ],
 "metadata": {
  "kernelspec": {
   "display_name": "Python (jupyter_env)",
   "language": "python",
   "name": "jupyter_env"
  },
  "language_info": {
   "codemirror_mode": {
    "name": "ipython",
    "version": 3
   },
   "file_extension": ".py",
   "mimetype": "text/x-python",
   "name": "python",
   "nbconvert_exporter": "python",
   "pygments_lexer": "ipython3",
   "version": "3.12.7"
  }
 },
 "nbformat": 4,
 "nbformat_minor": 5
}
